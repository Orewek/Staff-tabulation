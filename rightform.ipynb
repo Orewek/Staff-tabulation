{
 "cells": [
  {
   "cell_type": "code",
   "execution_count": 209,
   "id": "bcf599a0",
   "metadata": {},
   "outputs": [],
   "source": [
    "import pandas as pd\n",
    "import openpyxl as xl\n",
    "from shutil import copy\n",
    "\n",
    "Staff = pd.read_excel('Штат.xls')  # считываем файл со штатом сотрудников = Staff\n",
    "\n",
    "Staff['full_name_dep'] = (Staff[\"Фамилия\"] + \" \" + Staff[\"Имя\"] + \" \" + Staff[\"Отчество\"] + \" (\" + Staff[\"Штатная должность\"]+\")\").astype(\"string\") #делаем full_name - ФИО\n",
    "Staff['full_name'] = (Staff[\"Фамилия\"] + \" \" + Staff[\"Имя\"] + \" \" + Staff[\"Отчество\"]).astype(\"string\")\n",
    "\n",
    "departments = Staff['Подразделение (наименование)'].unique() #находим уникальные значения, то есть все департменты"
   ]
  },
  {
   "cell_type": "code",
   "execution_count": 210,
   "id": "ba766ea6",
   "metadata": {},
   "outputs": [
    {
     "name": "stdout",
     "output_type": "stream",
     "text": [
      "0      Клеенкова Ольга Владимировна (Заместитель глав...\n",
      "1          Панайотиди Екатерина Владимировна (Бухгалтер)\n",
      "2                 Суслова Ольга Вячеславовна (Бухгалтер)\n",
      "3        Толокнова Ева Александровна (Главный бухгалтер)\n",
      "4               Чухляева Елена Александровна (Бухгалтер)\n",
      "                             ...                        \n",
      "392            Сенькина Мария Евгеньевна (Администратор)\n",
      "393            Сенькина Мария Евгеньевна (Администратор)\n",
      "394    Трофименко Ирина Анатольевна (Зав учебным цент...\n",
      "395    Шулькин Игорь Михайлович (Зав центром во внедр...\n",
      "396    Нижельская Екатерина Леонидовна (Оператор ввод...\n",
      "Name: full_name_dep, Length: 397, dtype: string\n",
      "===================================\n",
      "Check that the empty list in ФормаТабель.xlsx goes from row 18 to row 217\n"
     ]
    }
   ],
   "source": [
    "# можно здесь что-то подправить, если шаблон измениться \n",
    "template_size = 50 # ppl per file (кол-во людей, которое может быть в одном файле, если окажется что в департменте работает больше, просто изменить значение )\n",
    "first_row = 18     # first row of the empty list in the template\n",
    "\n",
    "#здесь как раз и отлавливаю ошибку, если вдруг окажется что лист очень маленький, а народу в департменте много\n",
    "max_people = Staff.groupby('Подразделение (наименование)')['full_name_dep'].count().max()\n",
    "print(Staff['full_name_dep'])\n",
    "if template_size < max_people:\n",
    "    raise ValueError('The template is too small!')\n",
    "\n",
    "last_row = first_row + template_size * 4 - 1  # последняя пустая строчка в  template\n",
    "print (\"===================================\")\n",
    "print(f'Check that the empty list in ФормаТабель.xlsx goes from row {first_row} to row {last_row}') #для дебага, и понимания того что происходит"
   ]
  },
  {
   "cell_type": "code",
   "execution_count": 213,
   "id": "7c4e7234",
   "metadata": {},
   "outputs": [],
   "source": [
    "for department in departments:\n",
    "\n",
    "    #создаем файл для каждого департмента \n",
    "    file = f'{department}.xlsx'\n",
    "    copy('ФормаТабель.xlsx', file) #название можно поменять\n",
    "    wb = xl.load_workbook(file)\n",
    "    sheet = wb['Табель'] #название листа, можно поменять на нужный в шаблоне на входе (то есть в ФормаТабель.xlsx )\n",
    "   \n",
    "    for col in [(2,28)]:\n",
    "        sheet.unmerge_cells(start_row=5, start_column=col[0], end_row=5, end_column=col[1])\n",
    "    #sheet.cell('P5').value = department \n",
    "    sheet['O5'] = department #добавляем название департмента в ячейку A5\n",
    "\n",
    "    \n",
    "\n",
    "    # добавляем всех сотрудников в файл\n",
    "    people = Staff.loc[Staff[\"Подразделение (наименование)\"] == department,                # фильтр по отделу\n",
    "                       ['full_name_dep', 'Табельный номер']] # столбцы которые нам надо\n",
    "    people = people.sort_values('full_name_dep')\n",
    "    #print (people) check that people working w/o error\n",
    "    n = people.shape[0] # n = number of people\n",
    "    r = first_row       # r = current row\n",
    "    \n",
    "    numbering = 1 # нумерация людей в списке     \n",
    "    for person in people.itertuples():\n",
    "        sheet.cell(r, 3).value = person[1]   # ФИО + должность \n",
    "        sheet.cell(r, 4).value = person[2]   # Табельный номер\n",
    "        sheet.cell(r, 2).value = numbering\n",
    "        numbering+=1\n",
    "        \n",
    "        r += 4 #добавляем через две клетки нового сотрудника \n",
    "    \n",
    "    # удаляем все слитые НЕИСПОЛЬЗОВАННЫЕ клетки экселя чтобы они были не создавали проблем после добавления людей в файл департмента\n",
    "    #P.S. раньше происходил непонятный сдвиг линий контура, удалялись которые слова и т.п.\n",
    "    \n",
    "    \"\"\"\n",
    "    for row in range(r, last_row, 4):\n",
    "        for col in [(2,2), (3,3), (4,4)]:\n",
    "            sheet.unmerge_cells(start_row=row, start_column=col[0], end_row=row+1, end_column=col[3])\n",
    "       \n",
    "    \"\"\"\n",
    "    # удаляем неиспользованные строки \n",
    "    sheet.delete_rows(r, last_row + 1  - r)\n",
    "    \n",
    "    #корректируем print area чтобы она соотвестовала финальному результату, который нам нужен (без пустых пропусков и т.п)\n",
    "    sheet.print_area = sheet.calculate_dimension()\n",
    "    \n",
    "    wb.save(file)    \n",
    "    \n",
    "\n",
    "    # нужен для теста (сделает один файл), удалите break если надо чтобы сделало все департаменты (весь цикл)\n",
    "    #break"
   ]
  },
  {
   "cell_type": "code",
   "execution_count": 163,
   "id": "7d7b3812",
   "metadata": {},
   "outputs": [
    {
     "name": "stdout",
     "output_type": "stream",
     "text": [
      "( 2 , 2 ), \n",
      "( 3 , 3 ), \n",
      "( 4 , 4 ), \n",
      "( 5 , 5 ), \n",
      "( 6 , 6 ), \n",
      "( 7 , 7 ), \n",
      "( 8 , 8 ), \n",
      "( 9 , 9 ), \n",
      "( 10 , 10 ), \n",
      "( 11 , 11 ), \n",
      "( 12 , 12 ), \n",
      "( 13 , 13 ), \n",
      "( 14 , 14 ), \n",
      "( 15 , 15 ), \n",
      "( 16 , 16 ), \n",
      "( 17 , 17 ), \n",
      "( 18 , 18 ), \n",
      "( 19 , 19 ), \n",
      "( 20 , 20 ), \n",
      "( 21 , 21 ), \n",
      "( 22 , 22 ), \n",
      "( 23 , 23 ), \n",
      "( 24 , 24 ), \n",
      "( 25 , 25 ), \n",
      "( 26 , 26 ), \n",
      "( 27 , 27 ), \n",
      "( 28 , 28 ), \n",
      "( 29 , 29 ), \n",
      "( 30 , 30 ), \n",
      "( 31 , 31 ), \n",
      "( 32 , 32 ), \n"
     ]
    }
   ],
   "source": [
    "i = 2\n",
    "while i<(33):\n",
    "    print(\"(\" , i , \",\" , i , \"), \")\n",
    "    i+=1"
   ]
  },
  {
   "cell_type": "code",
   "execution_count": null,
   "id": "37031942",
   "metadata": {},
   "outputs": [],
   "source": []
  }
 ],
 "metadata": {
  "kernelspec": {
   "display_name": "Python 3",
   "language": "python",
   "name": "python3"
  },
  "language_info": {
   "codemirror_mode": {
    "name": "ipython",
    "version": 3
   },
   "file_extension": ".py",
   "mimetype": "text/x-python",
   "name": "python",
   "nbconvert_exporter": "python",
   "pygments_lexer": "ipython3",
   "version": "3.8.8"
  }
 },
 "nbformat": 4,
 "nbformat_minor": 5
}
