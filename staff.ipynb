{
 "cells": [
  {
   "cell_type": "code",
   "execution_count": 66,
   "metadata": {},
   "outputs": [],
   "source": [
    "import pandas as pd\n",
    "import openpyxl as xl\n",
    "from shutil import copy\n",
    "\n",
    "Staff = pd.read_excel('CopyШтат.xlsx')  # считываем файл со штатом сотрудников = Staff\n",
    "\n",
    "Staff['full_name'] = (Staff[\"Фамилия\"] + \" \" + Staff[\"Имя\"] + \" \" + Staff[\"Отчество\"]).astype(\"string\") #делаем full_name - ФИО\n",
    "\n",
    "departments = Staff['Подразделение'].unique() #находим уникальные значения, то есть все департменты "
   ]
  },
  {
   "cell_type": "code",
   "execution_count": 67,
   "metadata": {},
   "outputs": [
    {
     "name": "stdout",
     "output_type": "stream",
     "text": [
      "Check that the empty list in template.xlsx goes from row 14 to row 113\n"
     ]
    }
   ],
   "source": [
    "# можно здесь что-то подправить, если шаблон измениться \n",
    "template_size = 50 # ppl per file (кол-во людей, которое может быть в одном файле, если окажется что в департменте работает больше, просто изменить значение )\n",
    "first_row = 14     # first row of the empty list in the template\n",
    "\n",
    "#здесь как раз и отлавливаю ошибку, если вдруг окажется что лист очень маленький, а народу в департменте много\n",
    "max_people = Staff.groupby('Подразделение')['full_name'].count().max()\n",
    "if template_size < max_people:\n",
    "    raise ValueError('The template is too small!')\n",
    "\n",
    "last_row = first_row + template_size * 2 - 1  # последняя пустая строчка в  template\n",
    "\n",
    "print(f'Check that the empty list in template.xlsx goes from row {first_row} to row {last_row}') #для дебага, и понимания того что происходит "
   ]
  },
  {
   "cell_type": "code",
   "execution_count": 69,
   "metadata": {
    "scrolled": false
   },
   "outputs": [],
   "source": [
    "for department in departments:\n",
    "\n",
    "    # создаем файл для каждого департмента \n",
    "    file = f'{department}.xlsx'\n",
    "    copy('template.xlsx', file) #название можно поменять\n",
    "    wb = xl.load_workbook(file)\n",
    "    sheet = wb['Табель'] #название листа, можно поменять на нужный в шаблоне на входе (то есть в template.xlsx )\n",
    "    sheet['B6'] = department #добавляем название департмента в ячейку B6\n",
    "\n",
    "    # добавляем всех сотрудников в файл\n",
    "    people = Staff.loc[Staff[\"Подразделение\"] == department,                # фильтр по отделу\n",
    "                       ['full_name', 'Табельный номер', 'Штатная должность']] # столбцы которые нам надо\n",
    "    people = people.sort_values('full_name')\n",
    "    n = people.shape[0] # n - кол-во людей \n",
    "    r = first_row       # r - текущая строчка, линия в excel\n",
    "    \n",
    "    for person in people.itertuples():\n",
    "        sheet.cell(r, 1).value = person[1]  # full_name\n",
    "        sheet.cell(r, 5).value = person[2]  # Табельный номер\n",
    "        sheet.cell(r, 6).value = person[3]  # Штатная должность\n",
    "        r += 2 #добавляем через две клетки нового сотрудника \n",
    "     \n",
    "    # удаляем неиспользованные строки \n",
    "    sheet.delete_rows(r, last_row + 1  - r)\n",
    "\n",
    "    #корректируем print area чтобы она соотвестовала финальному результату, который нам нужен (без пустых пропусков и т.п)\n",
    "    sheet.print_area = sheet.calculate_dimension()\n",
    "\n",
    "    wb.save(file)\n",
    "    # нужен для теста (сделает один файл), удалите break если надо чтобы сделало все департаменты (весь цикл)\n",
    "    #break"
   ]
  },
  {
   "cell_type": "code",
   "execution_count": null,
   "metadata": {},
   "outputs": [],
   "source": []
  }
 ],
 "metadata": {
  "kernelspec": {
   "display_name": "Python 3",
   "language": "python",
   "name": "python3"
  },
  "language_info": {
   "codemirror_mode": {
    "name": "ipython",
    "version": 3
   },
   "file_extension": ".py",
   "mimetype": "text/x-python",
   "name": "python",
   "nbconvert_exporter": "python",
   "pygments_lexer": "ipython3",
   "version": "3.8.8"
  }
 },
 "nbformat": 4,
 "nbformat_minor": 2
}
